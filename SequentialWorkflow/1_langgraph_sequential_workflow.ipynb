{
  "nbformat": 4,
  "nbformat_minor": 0,
  "metadata": {
    "colab": {
      "provenance": []
    },
    "kernelspec": {
      "name": "python3",
      "display_name": "Python 3"
    },
    "language_info": {
      "name": "python"
    }
  },
  "cells": [
    {
      "cell_type": "code",
      "source": [
        "! pip install langgraph"
      ],
      "metadata": {
        "id": "C9SnMv8SaRle"
      },
      "execution_count": null,
      "outputs": []
    },
    {
      "cell_type": "code",
      "execution_count": 5,
      "metadata": {
        "id": "ctAFCLavYoOl"
      },
      "outputs": [],
      "source": [
        "from langgraph.graph import StateGraph,START,END"
      ]
    },
    {
      "cell_type": "markdown",
      "source": [
        "# Sequential Workflow without LLM ----  BMI Calculator Example"
      ],
      "metadata": {
        "id": "ksUgCUUBd7Dt"
      }
    },
    {
      "cell_type": "markdown",
      "source": [
        "## Define State"
      ],
      "metadata": {
        "id": "Pz-HPOkAZqJV"
      }
    },
    {
      "cell_type": "code",
      "source": [
        "from typing import TypedDict\n",
        "\n",
        "class BMIState(TypedDict):\n",
        "    weight_kg: float\n",
        "    height_m: float\n",
        "    bmi: float\n",
        "    category: str\n",
        "\n"
      ],
      "metadata": {
        "id": "VKpPEcb7ZEnt"
      },
      "execution_count": 10,
      "outputs": []
    },
    {
      "cell_type": "markdown",
      "source": [
        "## Create Nodes"
      ],
      "metadata": {
        "id": "Qe02lZj4dyI4"
      }
    },
    {
      "cell_type": "code",
      "source": [
        "def calculate_bmi(state: BMIState) -> BMIState:\n",
        "\n",
        "    weight = state['weight_kg']\n",
        "    height = state['height_m']\n",
        "\n",
        "    bmi = weight/(height**2)\n",
        "\n",
        "    state['bmi'] = round(bmi, 2)\n",
        "\n",
        "    return state"
      ],
      "metadata": {
        "id": "HanjIEJkbWYY"
      },
      "execution_count": 12,
      "outputs": []
    },
    {
      "cell_type": "code",
      "source": [
        "def label_bmi(state:BMIState) ->BMIState:\n",
        "\n",
        "  bmi = state['bmi']\n",
        "\n",
        "  if bmi < 18.5:\n",
        "      state[\"category\"] = \"Underweight\"\n",
        "  elif 18.5 <= bmi < 25:\n",
        "      state[\"category\"] = \"Normal\"\n",
        "  elif 25 <= bmi < 30:\n",
        "      state[\"category\"] = \"Overweight\"\n",
        "  else:\n",
        "      state[\"category\"] = \"Obese\"\n",
        "\n",
        "  return state"
      ],
      "metadata": {
        "id": "bQekZWt8apbM"
      },
      "execution_count": 13,
      "outputs": []
    },
    {
      "cell_type": "markdown",
      "source": [
        "## Define Graph"
      ],
      "metadata": {
        "id": "5BX7_3L1Z_CK"
      }
    },
    {
      "cell_type": "code",
      "source": [
        "graph = StateGraph(BMIState)\n",
        "\n",
        "# add nodes\n",
        "graph.add_node('calculate_bmi',calculate_bmi)\n",
        "graph.add_node('label_bmi',label_bmi)\n",
        "\n",
        "# add edges\n",
        "graph.add_edge(START,'calculate_bmi')\n",
        "graph.add_edge('calculate_bmi','label_bmi')\n",
        "graph.add_edge('label_bmi',END)\n",
        "\n",
        "# compile the graph\n",
        "workflow = graph.compile()\n",
        "\n",
        "# execute the graph\n",
        "intial_state = {'weight_kg':80, 'height_m':1.73}\n",
        "\n",
        "final_state = workflow.invoke(intial_state)\n",
        "\n",
        "print(final_state)\n"
      ],
      "metadata": {
        "colab": {
          "base_uri": "https://localhost:8080/"
        },
        "id": "lG1ggdDnZxcv",
        "outputId": "1f900f75-f850-4852-9137-c1e161bcd79d"
      },
      "execution_count": 14,
      "outputs": [
        {
          "output_type": "stream",
          "name": "stdout",
          "text": [
            "{'weight_kg': 80, 'height_m': 1.73, 'bmi': 26.73, 'category': 'Overweight'}\n"
          ]
        }
      ]
    },
    {
      "cell_type": "markdown",
      "source": [
        "## Visualize the graph"
      ],
      "metadata": {
        "id": "5T1AiFDaeTi-"
      }
    },
    {
      "cell_type": "code",
      "source": [
        "from IPython.display import Image\n",
        "Image(workflow.get_graph().draw_mermaid_png())"
      ],
      "metadata": {
        "colab": {
          "base_uri": "https://localhost:8080/",
          "height": 350
        },
        "id": "sKczrPSDcVw9",
        "outputId": "a345f875-21f9-4b68-c073-d3dab0c3500a"
      },
      "execution_count": 15,
      "outputs": [
        {
          "output_type": "execute_result",
          "data": {
            "image/png": "[encoded data removed]",
            "text/plain": [
              "<IPython.core.display.Image object>"
            ]
          },
          "metadata": {},
          "execution_count": 15
        }
      ]
    },
    {
      "cell_type": "markdown",
      "source": [
        "# Sequential Workflow With LLM"
      ],
      "metadata": {
        "id": "wafxFyuUeBka"
      }
    },
    {
      "cell_type": "code",
      "source": [
        "!pip install langchain langchain-community langchain-huggingface"
      ],
      "metadata": {
        "colab": {
          "base_uri": "https://localhost:8080/"
        },
        "id": "1p8bxjq8fiO_",
        "outputId": "81a6320b-be17-4fe1-bd63-388da36d3d4f"
      },
      "execution_count": 16,
      "outputs": [
        {
          "output_type": "stream",
          "name": "stdout",
          "text": [
            "Requirement already satisfied: langchain in /usr/local/lib/python3.11/dist-packages (0.3.27)\n",
            "Collecting langchain-community\n",
            "  Downloading langchain_community-0.3.27-py3-none-any.whl.metadata (2.9 kB)\n",
            "Collecting langchain-huggingface\n",
            "  Downloading langchain_huggingface-0.3.1-py3-none-any.whl.metadata (996 bytes)\n",
            "Requirement already satisfied: langchain-core<1.0.0,>=0.3.72 in /usr/local/lib/python3.11/dist-packages (from langchain) (0.3.72)\n",
            "Requirement already satisfied: langchain-text-splitters<1.0.0,>=0.3.9 in /usr/local/lib/python3.11/dist-packages (from langchain) (0.3.9)\n",
            "Requirement already satisfied: langsmith>=0.1.17 in /usr/local/lib/python3.11/dist-packages (from langchain) (0.4.12)\n",
            "Requirement already satisfied: pydantic<3.0.0,>=2.7.4 in /usr/local/lib/python3.11/dist-packages (from langchain) (2.11.7)\n",
            "Requirement already satisfied: SQLAlchemy<3,>=1.4 in /usr/local/lib/python3.11/dist-packages (from langchain) (2.0.42)\n",
            "Requirement already satisfied: requests<3,>=2 in /usr/local/lib/python3.11/dist-packages (from langchain) (2.32.3)\n",
            "Requirement already satisfied: PyYAML>=5.3 in /usr/local/lib/python3.11/dist-packages (from langchain) (6.0.2)\n",
            "Requirement already satisfied: aiohttp<4.0.0,>=3.8.3 in /usr/local/lib/python3.11/dist-packages (from langchain-community) (3.12.15)\n",
            "Requirement already satisfied: tenacity!=8.4.0,<10,>=8.1.0 in /usr/local/lib/python3.11/dist-packages (from langchain-community) (8.5.0)\n",
            "Collecting dataclasses-json<0.7,>=0.5.7 (from langchain-community)\n",
            "  Downloading dataclasses_json-0.6.7-py3-none-any.whl.metadata (25 kB)\n",
            "Collecting pydantic-settings<3.0.0,>=2.4.0 (from langchain-community)\n",
            "  Downloading pydantic_settings-2.10.1-py3-none-any.whl.metadata (3.4 kB)\n",
            "Collecting httpx-sse<1.0.0,>=0.4.0 (from langchain-community)\n",
            "  Downloading httpx_sse-0.4.1-py3-none-any.whl.metadata (9.4 kB)\n",
            "Requirement already satisfied: numpy>=1.26.2 in /usr/local/lib/python3.11/dist-packages (from langchain-community) (2.0.2)\n",
            "Requirement already satisfied: tokenizers>=0.19.1 in /usr/local/lib/python3.11/dist-packages (from langchain-huggingface) (0.21.4)\n",
            "Requirement already satisfied: huggingface-hub>=0.33.4 in /usr/local/lib/python3.11/dist-packages (from langchain-huggingface) (0.34.3)\n",
            "Requirement already satisfied: aiohappyeyeballs>=2.5.0 in /usr/local/lib/python3.11/dist-packages (from aiohttp<4.0.0,>=3.8.3->langchain-community) (2.6.1)\n",
            "Requirement already satisfied: aiosignal>=1.4.0 in /usr/local/lib/python3.11/dist-packages (from aiohttp<4.0.0,>=3.8.3->langchain-community) (1.4.0)\n",
            "Requirement already satisfied: attrs>=17.3.0 in /usr/local/lib/python3.11/dist-packages (from aiohttp<4.0.0,>=3.8.3->langchain-community) (25.3.0)\n",
            "Requirement already satisfied: frozenlist>=1.1.1 in /usr/local/lib/python3.11/dist-packages (from aiohttp<4.0.0,>=3.8.3->langchain-community) (1.7.0)\n",
            "Requirement already satisfied: multidict<7.0,>=4.5 in /usr/local/lib/python3.11/dist-packages (from aiohttp<4.0.0,>=3.8.3->langchain-community) (6.6.3)\n",
            "Requirement already satisfied: propcache>=0.2.0 in /usr/local/lib/python3.11/dist-packages (from aiohttp<4.0.0,>=3.8.3->langchain-community) (0.3.2)\n",
            "Requirement already satisfied: yarl<2.0,>=1.17.0 in /usr/local/lib/python3.11/dist-packages (from aiohttp<4.0.0,>=3.8.3->langchain-community) (1.20.1)\n",
            "Collecting marshmallow<4.0.0,>=3.18.0 (from dataclasses-json<0.7,>=0.5.7->langchain-community)\n",
            "  Downloading marshmallow-3.26.1-py3-none-any.whl.metadata (7.3 kB)\n",
            "Collecting typing-inspect<1,>=0.4.0 (from dataclasses-json<0.7,>=0.5.7->langchain-community)\n",
            "  Downloading typing_inspect-0.9.0-py3-none-any.whl.metadata (1.5 kB)\n",
            "Requirement already satisfied: filelock in /usr/local/lib/python3.11/dist-packages (from huggingface-hub>=0.33.4->langchain-huggingface) (3.18.0)\n",
            "Requirement already satisfied: fsspec>=2023.5.0 in /usr/local/lib/python3.11/dist-packages (from huggingface-hub>=0.33.4->langchain-huggingface) (2025.3.0)\n",
            "Requirement already satisfied: packaging>=20.9 in /usr/local/lib/python3.11/dist-packages (from huggingface-hub>=0.33.4->langchain-huggingface) (25.0)\n",
            "Requirement already satisfied: tqdm>=4.42.1 in /usr/local/lib/python3.11/dist-packages (from huggingface-hub>=0.33.4->langchain-huggingface) (4.67.1)\n",
            "Requirement already satisfied: typing-extensions>=3.7.4.3 in /usr/local/lib/python3.11/dist-packages (from huggingface-hub>=0.33.4->langchain-huggingface) (4.14.1)\n",
            "Requirement already satisfied: hf-xet<2.0.0,>=1.1.3 in /usr/local/lib/python3.11/dist-packages (from huggingface-hub>=0.33.4->langchain-huggingface) (1.1.7)\n",
            "Requirement already satisfied: jsonpatch<2.0,>=1.33 in /usr/local/lib/python3.11/dist-packages (from langchain-core<1.0.0,>=0.3.72->langchain) (1.33)\n",
            "Requirement already satisfied: httpx<1,>=0.23.0 in /usr/local/lib/python3.11/dist-packages (from langsmith>=0.1.17->langchain) (0.28.1)\n",
            "Requirement already satisfied: orjson>=3.9.14 in /usr/local/lib/python3.11/dist-packages (from langsmith>=0.1.17->langchain) (3.11.1)\n",
            "Requirement already satisfied: requests-toolbelt>=1.0.0 in /usr/local/lib/python3.11/dist-packages (from langsmith>=0.1.17->langchain) (1.0.0)\n",
            "Requirement already satisfied: zstandard>=0.23.0 in /usr/local/lib/python3.11/dist-packages (from langsmith>=0.1.17->langchain) (0.23.0)\n",
            "Requirement already satisfied: annotated-types>=0.6.0 in /usr/local/lib/python3.11/dist-packages (from pydantic<3.0.0,>=2.7.4->langchain) (0.7.0)\n",
            "Requirement already satisfied: pydantic-core==2.33.2 in /usr/local/lib/python3.11/dist-packages (from pydantic<3.0.0,>=2.7.4->langchain) (2.33.2)\n",
            "Requirement already satisfied: typing-inspection>=0.4.0 in /usr/local/lib/python3.11/dist-packages (from pydantic<3.0.0,>=2.7.4->langchain) (0.4.1)\n",
            "Collecting python-dotenv>=0.21.0 (from pydantic-settings<3.0.0,>=2.4.0->langchain-community)\n",
            "  Downloading python_dotenv-1.1.1-py3-none-any.whl.metadata (24 kB)\n",
            "Requirement already satisfied: charset-normalizer<4,>=2 in /usr/local/lib/python3.11/dist-packages (from requests<3,>=2->langchain) (3.4.2)\n",
            "Requirement already satisfied: idna<4,>=2.5 in /usr/local/lib/python3.11/dist-packages (from requests<3,>=2->langchain) (3.10)\n",
            "Requirement already satisfied: urllib3<3,>=1.21.1 in /usr/local/lib/python3.11/dist-packages (from requests<3,>=2->langchain) (2.5.0)\n",
            "Requirement already satisfied: certifi>=2017.4.17 in /usr/local/lib/python3.11/dist-packages (from requests<3,>=2->langchain) (2025.8.3)\n",
            "Requirement already satisfied: greenlet>=1 in /usr/local/lib/python3.11/dist-packages (from SQLAlchemy<3,>=1.4->langchain) (3.2.3)\n",
            "Requirement already satisfied: anyio in /usr/local/lib/python3.11/dist-packages (from httpx<1,>=0.23.0->langsmith>=0.1.17->langchain) (4.10.0)\n",
            "Requirement already satisfied: httpcore==1.* in /usr/local/lib/python3.11/dist-packages (from httpx<1,>=0.23.0->langsmith>=0.1.17->langchain) (1.0.9)\n",
            "Requirement already satisfied: h11>=0.16 in /usr/local/lib/python3.11/dist-packages (from httpcore==1.*->httpx<1,>=0.23.0->langsmith>=0.1.17->langchain) (0.16.0)\n",
            "Requirement already satisfied: jsonpointer>=1.9 in /usr/local/lib/python3.11/dist-packages (from jsonpatch<2.0,>=1.33->langchain-core<1.0.0,>=0.3.72->langchain) (3.0.0)\n",
            "Collecting mypy-extensions>=0.3.0 (from typing-inspect<1,>=0.4.0->dataclasses-json<0.7,>=0.5.7->langchain-community)\n",
            "  Downloading mypy_extensions-1.1.0-py3-none-any.whl.metadata (1.1 kB)\n",
            "Requirement already satisfied: sniffio>=1.1 in /usr/local/lib/python3.11/dist-packages (from anyio->httpx<1,>=0.23.0->langsmith>=0.1.17->langchain) (1.3.1)\n",
            "Downloading langchain_community-0.3.27-py3-none-any.whl (2.5 MB)\n",
            "\u001b[2K   \u001b[90m━━━━━━━━━━━━━━━━━━━━━━━━━━━━━━━━━━━━━━━━\u001b[0m \u001b[32m2.5/2.5 MB\u001b[0m \u001b[31m32.6 MB/s\u001b[0m eta \u001b[36m0:00:00\u001b[0m\n",
            "\u001b[?25hDownloading langchain_huggingface-0.3.1-py3-none-any.whl (27 kB)\n",
            "Downloading dataclasses_json-0.6.7-py3-none-any.whl (28 kB)\n",
            "Downloading httpx_sse-0.4.1-py3-none-any.whl (8.1 kB)\n",
            "Downloading pydantic_settings-2.10.1-py3-none-any.whl (45 kB)\n",
            "\u001b[2K   \u001b[90m━━━━━━━━━━━━━━━━━━━━━━━━━━━━━━━━━━━━━━━━\u001b[0m \u001b[32m45.2/45.2 kB\u001b[0m \u001b[31m2.6 MB/s\u001b[0m eta \u001b[36m0:00:00\u001b[0m\n",
            "\u001b[?25hDownloading marshmallow-3.26.1-py3-none-any.whl (50 kB)\n",
            "\u001b[2K   \u001b[90m━━━━━━━━━━━━━━━━━━━━━━━━━━━━━━━━━━━━━━━━\u001b[0m \u001b[32m50.9/50.9 kB\u001b[0m \u001b[31m4.1 MB/s\u001b[0m eta \u001b[36m0:00:00\u001b[0m\n",
            "\u001b[?25hDownloading python_dotenv-1.1.1-py3-none-any.whl (20 kB)\n",
            "Downloading typing_inspect-0.9.0-py3-none-any.whl (8.8 kB)\n",
            "Downloading mypy_extensions-1.1.0-py3-none-any.whl (5.0 kB)\n",
            "Installing collected packages: python-dotenv, mypy-extensions, marshmallow, httpx-sse, typing-inspect, pydantic-settings, dataclasses-json, langchain-huggingface, langchain-community\n",
            "Successfully installed dataclasses-json-0.6.7 httpx-sse-0.4.1 langchain-community-0.3.27 langchain-huggingface-0.3.1 marshmallow-3.26.1 mypy-extensions-1.1.0 pydantic-settings-2.10.1 python-dotenv-1.1.1 typing-inspect-0.9.0\n"
          ]
        }
      ]
    },
    {
      "cell_type": "code",
      "source": [
        "import os\n",
        "from getpass import getpass\n",
        "\n",
        "os.environ[\"HUGGINGFACEHUB_ACCESS_TOKEN\"] = getpass(\"Enter your secret: \")"
      ],
      "metadata": {
        "colab": {
          "base_uri": "https://localhost:8080/"
        },
        "id": "cfz2X52BeAoo",
        "outputId": "b9003040-30a6-4318-ebd3-806666f8ea8e"
      },
      "execution_count": 17,
      "outputs": [
        {
          "name": "stdout",
          "output_type": "stream",
          "text": [
            "Enter your secret: ··········\n"
          ]
        }
      ]
    },
    {
      "cell_type": "code",
      "source": [
        "# Define the model\n",
        "from langchain_huggingface import ChatHuggingFace, HuggingFaceEndpoint\n",
        "\n",
        "llm = HuggingFaceEndpoint(\n",
        "    repo_id=\"deepseek-ai/DeepSeek-R1\",\n",
        "    task=\"text-generation\",\n",
        "    huggingfacehub_api_token=os.environ[\"HUGGINGFACEHUB_ACCESS_TOKEN\"],\n",
        ")\n",
        "\n",
        "model = ChatHuggingFace(llm=llm)"
      ],
      "metadata": {
        "id": "BVmA90nef1Kk"
      },
      "execution_count": 25,
      "outputs": []
    },
    {
      "cell_type": "markdown",
      "source": [
        "## Define State"
      ],
      "metadata": {
        "id": "fGNzPf7agvoa"
      }
    },
    {
      "cell_type": "code",
      "source": [
        "# create a state\n",
        "\n",
        "class LLMState(TypedDict):\n",
        "\n",
        "    question: str\n",
        "    answer: str\n",
        "    summary: str"
      ],
      "metadata": {
        "id": "XdrKLUmogxvu"
      },
      "execution_count": 28,
      "outputs": []
    },
    {
      "cell_type": "code",
      "source": [
        "def llm_qa(state: LLMState) -> LLMState:\n",
        "\n",
        "    # extract the question from state\n",
        "    question = state['question']\n",
        "\n",
        "    # form a prompt\n",
        "    prompt = f'Answer the following question {question}'\n",
        "\n",
        "    # ask that question to the LLM\n",
        "    answer = model.invoke(prompt).content\n",
        "\n",
        "    # update the answer in the state\n",
        "    state['answer'] = answer\n",
        "\n",
        "    return state\n",
        "\n"
      ],
      "metadata": {
        "id": "bsFPeZC4gzaN"
      },
      "execution_count": 30,
      "outputs": []
    },
    {
      "cell_type": "code",
      "source": [
        "def summarize_qa(state:LLMState) -> LLMState:\n",
        "  # Extract the answer from the state\n",
        "  answer = state['answer']\n",
        "\n",
        "  # Form a prompt\n",
        "  prompt = f'Summarize the following answer {answer} like you explain it to a 10 year old'\n",
        "\n",
        "  # Ask that question to the LLM\n",
        "  summary = model.invoke(prompt).content\n",
        "\n",
        "  # update the\n",
        "  state['summary'] = summary\n",
        "\n",
        "  return state"
      ],
      "metadata": {
        "id": "5O9rthIci5EP"
      },
      "execution_count": 29,
      "outputs": []
    },
    {
      "cell_type": "code",
      "source": [
        "# Graph\n",
        "graph = StateGraph(LLMState)\n",
        "\n",
        "# add nodes\n",
        "graph.add_node('llm_qa',llm_qa)\n",
        "graph.add_node('summarize_qa',summarize_qa)\n",
        "\n",
        "# add edges\n",
        "graph.add_edge(START,'llm_qa')\n",
        "graph.add_edge('llm_qa','summarize_qa')\n",
        "graph.add_edge('summarize_qa',END)\n",
        "\n",
        "# compile\n",
        "workflow=graph.compile()\n",
        "\n",
        "# Execute\n",
        "intial_state = {'question':'What is the capital of India?'}\n",
        "\n",
        "final_state = workflow.invoke(intial_state)\n",
        "\n"
      ],
      "metadata": {
        "id": "buo2KV2mhD1S"
      },
      "execution_count": 31,
      "outputs": []
    },
    {
      "cell_type": "code",
      "source": [
        "print(final_state['summary'])"
      ],
      "metadata": {
        "colab": {
          "base_uri": "https://localhost:8080/"
        },
        "id": "gk4-v17khRvi",
        "outputId": "40a0a918-f54b-456b-dce3-c3526ecbc29d"
      },
      "execution_count": 33,
      "outputs": [
        {
          "output_type": "stream",
          "name": "stdout",
          "text": [
            "<think>\n",
            "Okay, so the user wants me to summarize the answer about the capital of India but in a way that a 10-year-old would understand. Let me start by recalling the main points from the original answer. The capital is New Delhi, which is part of the bigger city called Delhi. It's where the government is, and it became the capital after they moved it from Kolkata when the British were in charge.\n",
            "\n",
            "Now, simplifying for a 10-year-old: I need to use simple words and avoid complex terms. Maybe say \"the government works\" instead of \"administrative, political center.\" Also, mention that they should remember the name \"New Delhi.\" Perhaps mention famous buildings like the Parliament to make it relatable. Avoid dates like 1911 since a child might not need that detail. Keep it friendly and engaging. Check if the explanation is clear and not confusing. Make sure to clarify that New Delhi is part of Delhi, so they don't get confused between the two. Add something about it being an important city where leaders make decisions. Maybe add a comparison, like how their school might have different rooms for different activities, but keep it short. Avoid any jargon or historical complexities. Keep sentences short and lively.\n",
            "</think>\n",
            "\n",
            "**Answer for a 10-year-old:**  \n",
            "The capital of India is **New Delhi**! It’s like the “main city” where the country’s leaders work and make big decisions. Think of it as India’s \"control center\"! New Delhi is part of a bigger area called Delhi, kind of like how your favorite playground might be inside a huge park. 🏛️ A long time ago, the capital was in Kolkata, but then it moved to New Delhi. Now, it’s where you’d find cool buildings like India’s Parliament and the President’s house! 🌟\n"
          ]
        }
      ]
    },
    {
      "cell_type": "code",
      "source": [],
      "metadata": {
        "id": "C2DqCeLxiNpA"
      },
      "execution_count": null,
      "outputs": []
    }
  ]
}